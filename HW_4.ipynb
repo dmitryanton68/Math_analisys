{
 "cells": [
  {
   "cell_type": "markdown",
   "metadata": {},
   "source": [
    "1.     \n",
    "$\\int (2x^2 - 2x - 1 + \\sin{x} - \\cos{x} + \\log{x} + e^x) \\,\\mathrm{d}x =$      \n",
    "$\\displaystyle = \\frac{2x^3}{3} - x^2 - x - \\cos{x} - \\sin{x} + e^x + x\\log{x} + С - \\int x \\,\\mathrm{d}(\\log{x}) =$      \n",
    "$\\displaystyle = \\frac{2x^3}{3} - x^2 - x - \\cos{x} - \\sin{x} + e^x + x\\log{x} + С - \\int \\frac{x}{x} \\,\\mathrm{d}x =$     \n",
    "$\\displaystyle = \\frac{2x^3}{3} - x^2 - x - \\cos{x} - \\sin{x} + e^x + x\\log{x} - x + С$"
   ]
  },
  {
   "cell_type": "markdown",
   "metadata": {},
   "source": [
    "2.    \n",
    "$\\int (2x + 6xz^2 - 5x^2y - 3\\log{z}) \\,\\mathrm{d}x =$      \n",
    "$\\displaystyle = x^2 + 3 x^2z^2 - \\frac{5x^3}{3}y - 3x\\log{z} + С$"
   ]
  },
  {
   "cell_type": "markdown",
   "metadata": {},
   "source": [
    "3.   \n",
    "$\\displaystyle \\int_{0}^{\\pi} 3x^2 \\sin{(2x)}\\,\\mathrm{d}x = \\int_{0}^{\\pi} 3x^2  \\frac{-1}{2}\\,\\mathrm{d}\\cos{(2x)} =$   \n",
    "$\\displaystyle= -\\frac{3}{2} \\cdot \\Bigl(x^2 \\cdot \\cos{2x} \\Bigr|_{0}^{\\pi} - \\int_{0}^{\\pi} \\cos{(2x)}\\,\\mathrm{d}x^2 \\Bigr) =$   \n",
    "$\\displaystyle= -\\frac{3 \\pi^2}{2} + 3 \\int_{0}^{\\pi} x\\cos{(2x)}\\,\\mathrm{d}x = -\\frac{3 \\pi^2}{2} + \\frac{3}{2} \\int_{0}^{\\pi} x\\,\\mathrm{d}\\sin{(2x)} =$     \n",
    "$\\displaystyle= -\\frac{3 \\pi^2}{2} + \\frac{3}{2} \\cdot \\Bigl(x \\cdot \\sin{2x} \\Bigr|_{0}^{\\pi} - \\int_{0}^{\\pi} \\sin{(2x)} \\,\\mathrm{d}x \\Bigr) = -\\frac{3 \\pi^2}{2} + \\frac{3}{4} \\cdot \\cos{(2x)} \\Bigr|_{0}^{\\pi} =$    \n",
    "$\\displaystyle= -\\frac{3 \\pi^2}{2} $     "
   ]
  },
  {
   "cell_type": "markdown",
   "metadata": {},
   "source": [
    "4.   \n",
    "$\\displaystyle \\int \\frac{1}{\\sqrt{x + 1}} \\,\\mathrm{d}x \\Bigl|_{\\sqrt{x + 1} = t} = \\int \\frac{1}{t} \\,\\mathrm{d}t^2 = \\int \\frac{2t}{t} \\,\\mathrm{d}t = 2t + С = 2\\sqrt{x + 1} + С$     \n"
   ]
  },
  {
   "cell_type": "markdown",
   "metadata": {},
   "source": [
    "5.    \n",
    "$\\displaystyle (4x^2 + \\frac{1}{2}y^2 - 6y)\\mathrm{d}x + (2y^3 + xy - 6x)\\mathrm{d}y = 0$    \n",
    "Гипотеза:    \n",
    "$U_xdx + U_ydy = 0$    \n",
    "Проверка гипотезы:   \n",
    "$\\displaystyle U_x = 4x^2 + \\frac{1}{2}y^2 - 6y => U_{xy} = y - 6$   \n",
    "$\\displaystyle U_y = 2y^3 + xy - 6x => U_{yx} = y - 6$   \n",
    "$U_{xy} = U_{yx}$   \n",
    "Поиск решения:    \n",
    "$\\displaystyle U = \\int (4x^2 + \\frac{1}{2}y^2 - 6y)\\mathrm{d}x = \\frac{4}{3}x^3 + \\frac{1}{2}xy^2 - 6xy + \\phi(y)$   \n",
    "$\\displaystyle U_y = xy - 6x + \\phi_y(y) = 2y^3 + xy - 6x => \\phi_y(y) = 2y^3 => \\phi(y) = \\int 2y^3 \\,\\mathrm{d}y = \\frac{y^4}{2} + C$   \n",
    "$\\displaystyle U = \\frac{4}{3}x^3 + \\frac{1}{2}xy^2 - 6xy + \\frac{y^4}{2} + C$   "
   ]
  },
  {
   "cell_type": "markdown",
   "metadata": {},
   "source": [
    "6.   \n",
    "$\\displaystyle y' + y = x^2y^3$  \n",
    "Это уравнение Бернулли.   \n",
    "$\\displaystyle \\frac{y'}{y^3} + \\frac{1}{y^2} = x^2$   \n",
    "Замена:    \n",
    "$\\displaystyle z = \\frac{1}{y^2}$    \n",
    "тогда $\\displaystyle z' = \\frac{-2}{y^3}y'$   \n",
    "$\\displaystyle \\frac{y'}{y^3} + \\frac{1}{y^2} = \\frac{-z'}{2} + z$   \n",
    "Общее решение ОДУ:   \n",
    "$\\displaystyle \\frac{-z'}{2} + z = 0 \\Bigl|_{\\displaystyle \\frac{-2}{z}}$  \n",
    "$\\displaystyle \\frac{z'}{z} - 2 = 0$   \n",
    "$\\displaystyle \\int\\frac{1}{z} \\mathrm{d}z - 2\\int \\mathrm{d}x = 0$   \n",
    "$\\displaystyle \\log{|z|} - 2x = C => z = Ce^{2x}$     \n",
    "Частное решение неоднородного ДУ $\\displaystyle -z' + 2z = 2x^2$:   \n",
    "$\\displaystyle -C'e^{2x} - 2Ce^{2x} + 2Ce^{2x} = 2x^2$    \n",
    "$\\displaystyle C'(x) = -2x^2e^{-2x} => $    \n",
    "$\\displaystyle C(x) = -2\\int x^2e^{-2x} \\mathrm{d}x = \\frac{-2}{-2} \\int x^2 \\mathrm{d}(e^{-2x}) = x^2 e^{-2x} - \\int e^{-2x} \\mathrm{d}x^2 = x^2 e^{-2x} - 2 \\int x \\frac{-1}{2} \\mathrm{d} e^{-2x} =$   \n",
    "$\\displaystyle = x^2 e^{-2x} + x e^{-2x} - \\int e^{-2x} \\mathrm{d}x =  x^2 e^{-2x} + x e^{-2x} + \\frac{e^{-2x}}{2} + C_2 = (x^2 + x + \\frac{1}{2}) e^{-2x} + C_2$   \n",
    "$\\displaystyle z = Ce^{2x} = (x^2 + x + \\frac{1}{2}) e^{-2x}e^{2x} + C_2 e^{2x} = x^2 + x + \\frac{1}{2} + C_2e^{2x}$   \n",
    "$\\displaystyle \\frac{1}{y^2} = x^2 + x + \\frac{1}{2} + C_2e^{2x}$   \n",
    "$\\displaystyle y = \\pm \\frac{1}{\\sqrt{x^2 + x + \\frac{1}{2} + C_2e^{2x}}}$"
   ]
  },
  {
   "cell_type": "code",
   "execution_count": null,
   "metadata": {},
   "outputs": [],
   "source": []
  }
 ],
 "metadata": {
  "kernelspec": {
   "display_name": "Python 3",
   "language": "python",
   "name": "python3"
  },
  "language_info": {
   "codemirror_mode": {
    "name": "ipython",
    "version": 3
   },
   "file_extension": ".py",
   "mimetype": "text/x-python",
   "name": "python",
   "nbconvert_exporter": "python",
   "pygments_lexer": "ipython3",
   "version": "3.7.1"
  }
 },
 "nbformat": 4,
 "nbformat_minor": 2
}
