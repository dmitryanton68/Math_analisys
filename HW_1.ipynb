{
 "cells": [
  {
   "cell_type": "markdown",
   "metadata": {},
   "source": [
    "#### 1. \n",
    "Как относятся друг к другу множество и последовательность? (в ответе использовать слова типа: часть, целое, общее, частное,\n",
    "родитель, дочерний субъект и т.д.)\n",
    "#### ОТВЕТ:\n",
    "Последовательность – выборка, созданная на упорядочненном множестве натуральных чисел, т.е. множество натуральных чисел (выступает в роли родителя) отображается на последовательность по определённому закону (порождает последовательность как дочерний субъект)."
   ]
  },
  {
   "cell_type": "markdown",
   "metadata": {},
   "source": [
    "#### 2. \n",
    "Прочитать высказывания математической логики, построить их отрицания и *установить истинность.\n",
    "#### ОТВЕТ\n",
    "\n",
    "$1.$ Для любого y из отрезка [0; 1] значение функции sgn(y) равно 1.   \n",
    "\n",
    "Отрицание:\n",
    "\n",
    "Существуют такие y из отрезка [0; 1], что значение функции sgn(y) не равно 1."
   ]
  },
  {
   "cell_type": "markdown",
   "metadata": {},
   "source": [
    "$2.$ Для любого n, принадлежащего множеству натуральных чисел, больших 2, существуют такие x, y, z из множества натуральных чисел, что x в степени n равен сумме y в степени n и z в степени n.\n",
    "\n",
    "Отрицание: \n",
    "\n",
    "Существует такое n, принадлежащее множеству натуральных чисел, больших 2, для которого справедливо, что для любых x, y, z (из множества натуральных чисел) x в степени n не равен сумме y в степени n и z в степени n."
   ]
  },
  {
   "cell_type": "markdown",
   "metadata": {},
   "source": [
    "$3.$ Для любого вещественного числа x существует такое множество X, принадлежащее множеству вещественных чисел, что все элементы множества X больше x.\n",
    "\n",
    "Отрицание: \n",
    "\n",
    "Существует такое вещественное число x для которого любое множество X, принадлежащее множеству вещественных чисел, будет таким, что все элементы множества X будут меньше x."
   ]
  },
  {
   "cell_type": "markdown",
   "metadata": {},
   "source": [
    "$4.$ Для любого комплексного числа x не существует комплексного числа y, такого чтобы: x > y  или y > x.\n",
    "\n",
    "Отрицание: \n",
    "\n",
    "Существует такое комплексное число x для которого существует комплексное число y, такое, что справедливо: $x \\geq y$  и $y \\geq x$."
   ]
  },
  {
   "cell_type": "markdown",
   "metadata": {},
   "source": [
    "$5.$ Для любого y из отрезка $[0; \\pi/2]$ существует такое $\\varepsilon > 0$, что $sin(y) < sin(y + \\varepsilon)$\n",
    "\n",
    "Отрицание: \n",
    "\n",
    "Существует такой y из отрезка $[0; \\pi/2]$, что для любого $\\varepsilon \\leq 0$ будет выполняться $sin(y) \\geq sin(y + \\varepsilon)$"
   ]
  },
  {
   "cell_type": "markdown",
   "metadata": {},
   "source": [
    "$6.$ Для любого y из отрезка $[0; \\pi)$ существует такое $\\varepsilon > 0$, что $cos(y) > cos(y + \\varepsilon)$\n",
    "\n",
    "Отрицание: \n",
    "\n",
    "Существует такой y из отрезка $[0; \\pi)$, что для любого $\\varepsilon \\leq 0$ будет справедливо $cos(y) \\leq cos(y + \\varepsilon)$"
   ]
  },
  {
   "cell_type": "markdown",
   "metadata": {},
   "source": [
    "$7.$ Существует такой x, который не входит в множество, состоящее из натуральных, целых, рациональных, вещественных и комплексных чисел.\n",
    "\n",
    "Отрицание: \n",
    "\n",
    "Любой x входит в множество, состоящее из натуральных, целых, рациональных, вещественных и комплексных чисел."
   ]
  },
  {
   "cell_type": "markdown",
   "metadata": {},
   "source": [
    "#### 3.  &  4.\n",
    "Даны три множества a,b и с. Необходимо выполнить все изученные виды бинарных операций над всеми комбинациями множеств.\n",
    "\n",
    "#### ОТВЕТ:\n"
   ]
  },
  {
   "cell_type": "markdown",
   "metadata": {},
   "source": [
    "Под всеми комбинациями множеств будем считать все возможные размещения из n по k: $A_3^1 + A_3^2 + A_3^3$"
   ]
  },
  {
   "cell_type": "code",
   "execution_count": 1,
   "metadata": {},
   "outputs": [
    {
     "data": {
      "text/plain": [
       "15.0"
      ]
     },
     "execution_count": 1,
     "metadata": {},
     "output_type": "execute_result"
    }
   ],
   "source": [
    "import numpy as np\n",
    "\n",
    "def arrangement(n, k):\n",
    "    return np.math.factorial(n)/np.math.factorial(n - k)\n",
    "\n",
    "A = arrangement(3, 1) + arrangement(3, 2) + arrangement(3, 3)\n",
    "A"
   ]
  },
  {
   "cell_type": "markdown",
   "metadata": {},
   "source": [
    "Всего 15 возможных размещений.\n",
    "Перечислим."
   ]
  },
  {
   "cell_type": "code",
   "execution_count": 2,
   "metadata": {},
   "outputs": [
    {
     "data": {
      "text/plain": [
       "['a',\n",
       " 'b',\n",
       " 'c',\n",
       " 'ab',\n",
       " 'ac',\n",
       " 'ba',\n",
       " 'bc',\n",
       " 'ca',\n",
       " 'cb',\n",
       " 'abc',\n",
       " 'acb',\n",
       " 'bac',\n",
       " 'bca',\n",
       " 'cab',\n",
       " 'cba']"
      ]
     },
     "execution_count": 2,
     "metadata": {},
     "output_type": "execute_result"
    }
   ],
   "source": [
    "from itertools import permutations\n",
    "\n",
    "P = []\n",
    "\n",
    "for j in range(1,4):\n",
    "    for item in permutations('abc', j):\n",
    "        P.append(''.join(item))\n",
    "        \n",
    "P"
   ]
  },
  {
   "cell_type": "markdown",
   "metadata": {},
   "source": [
    "Изученые бинарные операции:    \n",
    "пересечение, объединение, разность, симметрическая разность, декартово произведение"
   ]
  },
  {
   "cell_type": "markdown",
   "metadata": {},
   "source": [
    "Бинарные комбинации возможны при участии не менее 2-х элементов, т.е. первые 3 члена из списка рассматриваться не будут.   \n",
    "Зададим элементы множеств:"
   ]
  },
  {
   "cell_type": "code",
   "execution_count": 3,
   "metadata": {},
   "outputs": [],
   "source": [
    "a = set('big')\n",
    "b = set('band')\n",
    "c = set('mafia')"
   ]
  },
  {
   "cell_type": "markdown",
   "metadata": {},
   "source": [
    "Ограничение при использовании set - удаляются задваиваемые элементы внутри множества"
   ]
  },
  {
   "cell_type": "markdown",
   "metadata": {},
   "source": [
    "Пересечение ------------------------"
   ]
  },
  {
   "cell_type": "code",
   "execution_count": 4,
   "metadata": {},
   "outputs": [
    {
     "data": {
      "text/plain": [
       "{'b'}"
      ]
     },
     "execution_count": 4,
     "metadata": {},
     "output_type": "execute_result"
    }
   ],
   "source": [
    "a&b"
   ]
  },
  {
   "cell_type": "code",
   "execution_count": 5,
   "metadata": {},
   "outputs": [
    {
     "data": {
      "text/plain": [
       "{'i'}"
      ]
     },
     "execution_count": 5,
     "metadata": {},
     "output_type": "execute_result"
    }
   ],
   "source": [
    "a&c"
   ]
  },
  {
   "cell_type": "code",
   "execution_count": 6,
   "metadata": {},
   "outputs": [
    {
     "data": {
      "text/plain": [
       "{'a'}"
      ]
     },
     "execution_count": 6,
     "metadata": {},
     "output_type": "execute_result"
    }
   ],
   "source": [
    "b&c"
   ]
  },
  {
   "cell_type": "code",
   "execution_count": 7,
   "metadata": {},
   "outputs": [
    {
     "data": {
      "text/plain": [
       "set()"
      ]
     },
     "execution_count": 7,
     "metadata": {},
     "output_type": "execute_result"
    }
   ],
   "source": [
    "a&b&c"
   ]
  },
  {
   "cell_type": "markdown",
   "metadata": {},
   "source": [
    "Объединение --------------------- "
   ]
  },
  {
   "cell_type": "code",
   "execution_count": 8,
   "metadata": {},
   "outputs": [
    {
     "data": {
      "text/plain": [
       "{'a', 'b', 'd', 'g', 'i', 'n'}"
      ]
     },
     "execution_count": 8,
     "metadata": {},
     "output_type": "execute_result"
    }
   ],
   "source": [
    "a|b"
   ]
  },
  {
   "cell_type": "code",
   "execution_count": 9,
   "metadata": {},
   "outputs": [
    {
     "data": {
      "text/plain": [
       "{'a', 'b', 'f', 'g', 'i', 'm'}"
      ]
     },
     "execution_count": 9,
     "metadata": {},
     "output_type": "execute_result"
    }
   ],
   "source": [
    "a|c"
   ]
  },
  {
   "cell_type": "code",
   "execution_count": 10,
   "metadata": {},
   "outputs": [
    {
     "data": {
      "text/plain": [
       "{'a', 'b', 'd', 'f', 'i', 'm', 'n'}"
      ]
     },
     "execution_count": 10,
     "metadata": {},
     "output_type": "execute_result"
    }
   ],
   "source": [
    "b|c"
   ]
  },
  {
   "cell_type": "code",
   "execution_count": 11,
   "metadata": {},
   "outputs": [
    {
     "data": {
      "text/plain": [
       "{'a', 'b', 'd', 'f', 'g', 'i', 'm', 'n'}"
      ]
     },
     "execution_count": 11,
     "metadata": {},
     "output_type": "execute_result"
    }
   ],
   "source": [
    "a|b|c"
   ]
  },
  {
   "cell_type": "markdown",
   "metadata": {},
   "source": [
    "Разность --------------------"
   ]
  },
  {
   "cell_type": "code",
   "execution_count": 12,
   "metadata": {},
   "outputs": [
    {
     "data": {
      "text/plain": [
       "{'g', 'i'}"
      ]
     },
     "execution_count": 12,
     "metadata": {},
     "output_type": "execute_result"
    }
   ],
   "source": [
    "a - b"
   ]
  },
  {
   "cell_type": "code",
   "execution_count": 13,
   "metadata": {},
   "outputs": [
    {
     "data": {
      "text/plain": [
       "{'a', 'd', 'n'}"
      ]
     },
     "execution_count": 13,
     "metadata": {},
     "output_type": "execute_result"
    }
   ],
   "source": [
    "b - a"
   ]
  },
  {
   "cell_type": "code",
   "execution_count": 14,
   "metadata": {},
   "outputs": [
    {
     "data": {
      "text/plain": [
       "{'b', 'g'}"
      ]
     },
     "execution_count": 14,
     "metadata": {},
     "output_type": "execute_result"
    }
   ],
   "source": [
    "a - c"
   ]
  },
  {
   "cell_type": "code",
   "execution_count": 15,
   "metadata": {},
   "outputs": [
    {
     "data": {
      "text/plain": [
       "{'a', 'f', 'm'}"
      ]
     },
     "execution_count": 15,
     "metadata": {},
     "output_type": "execute_result"
    }
   ],
   "source": [
    "c - a"
   ]
  },
  {
   "cell_type": "code",
   "execution_count": 16,
   "metadata": {},
   "outputs": [
    {
     "data": {
      "text/plain": [
       "{'b', 'd', 'n'}"
      ]
     },
     "execution_count": 16,
     "metadata": {},
     "output_type": "execute_result"
    }
   ],
   "source": [
    "b - c"
   ]
  },
  {
   "cell_type": "code",
   "execution_count": 17,
   "metadata": {},
   "outputs": [
    {
     "data": {
      "text/plain": [
       "{'f', 'i', 'm'}"
      ]
     },
     "execution_count": 17,
     "metadata": {},
     "output_type": "execute_result"
    }
   ],
   "source": [
    "c - b"
   ]
  },
  {
   "cell_type": "code",
   "execution_count": 18,
   "metadata": {},
   "outputs": [
    {
     "data": {
      "text/plain": [
       "{'g'}"
      ]
     },
     "execution_count": 18,
     "metadata": {},
     "output_type": "execute_result"
    }
   ],
   "source": [
    "a - b - c"
   ]
  },
  {
   "cell_type": "code",
   "execution_count": 19,
   "metadata": {},
   "outputs": [
    {
     "data": {
      "text/plain": [
       "{'g'}"
      ]
     },
     "execution_count": 19,
     "metadata": {},
     "output_type": "execute_result"
    }
   ],
   "source": [
    "a - c - b"
   ]
  },
  {
   "cell_type": "code",
   "execution_count": 20,
   "metadata": {},
   "outputs": [
    {
     "data": {
      "text/plain": [
       "{'d', 'n'}"
      ]
     },
     "execution_count": 20,
     "metadata": {},
     "output_type": "execute_result"
    }
   ],
   "source": [
    "b - a - c"
   ]
  },
  {
   "cell_type": "code",
   "execution_count": 21,
   "metadata": {},
   "outputs": [
    {
     "data": {
      "text/plain": [
       "{'d', 'n'}"
      ]
     },
     "execution_count": 21,
     "metadata": {},
     "output_type": "execute_result"
    }
   ],
   "source": [
    "b - c - a"
   ]
  },
  {
   "cell_type": "code",
   "execution_count": 22,
   "metadata": {},
   "outputs": [
    {
     "data": {
      "text/plain": [
       "{'f', 'm'}"
      ]
     },
     "execution_count": 22,
     "metadata": {},
     "output_type": "execute_result"
    }
   ],
   "source": [
    "c - a - b"
   ]
  },
  {
   "cell_type": "code",
   "execution_count": 23,
   "metadata": {},
   "outputs": [
    {
     "data": {
      "text/plain": [
       "{'f', 'm'}"
      ]
     },
     "execution_count": 23,
     "metadata": {},
     "output_type": "execute_result"
    }
   ],
   "source": [
    "c - b - a"
   ]
  },
  {
   "cell_type": "markdown",
   "metadata": {},
   "source": [
    "Симметрическая разность -----------------------"
   ]
  },
  {
   "cell_type": "code",
   "execution_count": 24,
   "metadata": {},
   "outputs": [
    {
     "data": {
      "text/plain": [
       "{'a', 'd', 'g', 'i', 'n'}"
      ]
     },
     "execution_count": 24,
     "metadata": {},
     "output_type": "execute_result"
    }
   ],
   "source": [
    "a^b"
   ]
  },
  {
   "cell_type": "code",
   "execution_count": 25,
   "metadata": {},
   "outputs": [
    {
     "data": {
      "text/plain": [
       "{'a', 'b', 'f', 'g', 'm'}"
      ]
     },
     "execution_count": 25,
     "metadata": {},
     "output_type": "execute_result"
    }
   ],
   "source": [
    "a^c"
   ]
  },
  {
   "cell_type": "code",
   "execution_count": 26,
   "metadata": {},
   "outputs": [
    {
     "data": {
      "text/plain": [
       "{'b', 'd', 'f', 'i', 'm', 'n'}"
      ]
     },
     "execution_count": 26,
     "metadata": {},
     "output_type": "execute_result"
    }
   ],
   "source": [
    "b^c"
   ]
  },
  {
   "cell_type": "code",
   "execution_count": 27,
   "metadata": {},
   "outputs": [
    {
     "data": {
      "text/plain": [
       "{'d', 'f', 'g', 'm', 'n'}"
      ]
     },
     "execution_count": 27,
     "metadata": {},
     "output_type": "execute_result"
    }
   ],
   "source": [
    "a^b^c"
   ]
  },
  {
   "cell_type": "markdown",
   "metadata": {},
   "source": [
    "Декартово произведение ------------------"
   ]
  },
  {
   "cell_type": "code",
   "execution_count": 28,
   "metadata": {},
   "outputs": [
    {
     "data": {
      "text/plain": [
       "[['i', 'b', 'g'], ['n', 'd', 'a', 'b'], ['i', 'm', 'f', 'a']]"
      ]
     },
     "execution_count": 28,
     "metadata": {},
     "output_type": "execute_result"
    }
   ],
   "source": [
    "lst = [list(a), list(b), list(c)]\n",
    "lst"
   ]
  },
  {
   "cell_type": "code",
   "execution_count": 29,
   "metadata": {},
   "outputs": [
    {
     "name": "stdout",
     "output_type": "stream",
     "text": [
      "N 1 - ('i', 'n', 'i')\n",
      "N 2 - ('i', 'n', 'm')\n",
      "N 3 - ('i', 'n', 'f')\n",
      "N 4 - ('i', 'n', 'a')\n",
      "N 5 - ('i', 'd', 'i')\n",
      "N 6 - ('i', 'd', 'm')\n",
      "N 7 - ('i', 'd', 'f')\n",
      "N 8 - ('i', 'd', 'a')\n",
      "N 9 - ('i', 'a', 'i')\n",
      "N 10 - ('i', 'a', 'm')\n",
      "N 11 - ('i', 'a', 'f')\n",
      "N 12 - ('i', 'a', 'a')\n",
      "N 13 - ('i', 'b', 'i')\n",
      "N 14 - ('i', 'b', 'm')\n",
      "N 15 - ('i', 'b', 'f')\n",
      "N 16 - ('i', 'b', 'a')\n",
      "N 17 - ('b', 'n', 'i')\n",
      "N 18 - ('b', 'n', 'm')\n",
      "N 19 - ('b', 'n', 'f')\n",
      "N 20 - ('b', 'n', 'a')\n",
      "N 21 - ('b', 'd', 'i')\n",
      "N 22 - ('b', 'd', 'm')\n",
      "N 23 - ('b', 'd', 'f')\n",
      "N 24 - ('b', 'd', 'a')\n",
      "N 25 - ('b', 'a', 'i')\n",
      "N 26 - ('b', 'a', 'm')\n",
      "N 27 - ('b', 'a', 'f')\n",
      "N 28 - ('b', 'a', 'a')\n",
      "N 29 - ('b', 'b', 'i')\n",
      "N 30 - ('b', 'b', 'm')\n",
      "N 31 - ('b', 'b', 'f')\n",
      "N 32 - ('b', 'b', 'a')\n",
      "N 33 - ('g', 'n', 'i')\n",
      "N 34 - ('g', 'n', 'm')\n",
      "N 35 - ('g', 'n', 'f')\n",
      "N 36 - ('g', 'n', 'a')\n",
      "N 37 - ('g', 'd', 'i')\n",
      "N 38 - ('g', 'd', 'm')\n",
      "N 39 - ('g', 'd', 'f')\n",
      "N 40 - ('g', 'd', 'a')\n",
      "N 41 - ('g', 'a', 'i')\n",
      "N 42 - ('g', 'a', 'm')\n",
      "N 43 - ('g', 'a', 'f')\n",
      "N 44 - ('g', 'a', 'a')\n",
      "N 45 - ('g', 'b', 'i')\n",
      "N 46 - ('g', 'b', 'm')\n",
      "N 47 - ('g', 'b', 'f')\n",
      "N 48 - ('g', 'b', 'a')\n"
     ]
    }
   ],
   "source": [
    "from itertools import product\n",
    "k = 1\n",
    "for i in product(*lst):\n",
    "    print(f'N {k} - {i}')\n",
    "    k += 1"
   ]
  },
  {
   "cell_type": "markdown",
   "metadata": {},
   "source": [
    "#### 4.\n",
    "Даны 4 последовательности.   \n",
    "Необходимо:   \n",
    "1) исследовать их на монотонность;   \n",
    "2) исследовать на ограниченность;   \n",
    "3) найти пятый по счету член.\n",
    "\n",
    "#### ОТВЕТ:"
   ]
  },
  {
   "cell_type": "markdown",
   "metadata": {},
   "source": [
    "$1.$ ----------------------------"
   ]
  },
  {
   "cell_type": "code",
   "execution_count": 30,
   "metadata": {},
   "outputs": [],
   "source": [
    "def a_n(n):\n",
    "    return 2*n - 1"
   ]
  },
  {
   "cell_type": "code",
   "execution_count": 31,
   "metadata": {},
   "outputs": [
    {
     "data": {
      "text/plain": [
       "(-2, -2, -2)"
      ]
     },
     "execution_count": 31,
     "metadata": {},
     "output_type": "execute_result"
    }
   ],
   "source": [
    "n = 1000\n",
    "\n",
    "a1 = a_n(n) - a_n(n+1)\n",
    "a2 = a_n(10*n) - a_n(10*n+1)\n",
    "a3 = a_n(100*n) - a_n(100*n+1)\n",
    "a1, a2, a3"
   ]
  },
  {
   "cell_type": "markdown",
   "metadata": {},
   "source": [
    "Последовательность монотонно возрастающая"
   ]
  },
  {
   "cell_type": "code",
   "execution_count": 32,
   "metadata": {},
   "outputs": [
    {
     "data": {
      "text/plain": [
       "1"
      ]
     },
     "execution_count": 32,
     "metadata": {},
     "output_type": "execute_result"
    }
   ],
   "source": [
    "n = 1\n",
    "a_n(n)"
   ]
  },
  {
   "cell_type": "markdown",
   "metadata": {},
   "source": [
    "Последовательность ограничена снизу числом 1"
   ]
  },
  {
   "cell_type": "code",
   "execution_count": 33,
   "metadata": {},
   "outputs": [
    {
     "data": {
      "text/plain": [
       "9"
      ]
     },
     "execution_count": 33,
     "metadata": {},
     "output_type": "execute_result"
    }
   ],
   "source": [
    "a_n(5)"
   ]
  },
  {
   "cell_type": "markdown",
   "metadata": {},
   "source": [
    "Пятый член последовательности = 9"
   ]
  },
  {
   "cell_type": "markdown",
   "metadata": {},
   "source": [
    "$2.$ ----------------------------"
   ]
  },
  {
   "cell_type": "code",
   "execution_count": 34,
   "metadata": {},
   "outputs": [],
   "source": [
    "def b_n(n):\n",
    "    return 1/(1 - n)"
   ]
  },
  {
   "cell_type": "code",
   "execution_count": 35,
   "metadata": {},
   "outputs": [
    {
     "data": {
      "text/plain": [
       "(-1.0010010010009715e-06, -1.0001000100008477e-08, -1.0000100000901087e-10)"
      ]
     },
     "execution_count": 35,
     "metadata": {},
     "output_type": "execute_result"
    }
   ],
   "source": [
    "n = 1000\n",
    "\n",
    "b1 = b_n(n) - b_n(n+1)\n",
    "b2 = b_n(10*n) - b_n(10*n+1)\n",
    "b3 = b_n(100*n) - b_n(100*n+1)\n",
    "b1, b2, b3"
   ]
  },
  {
   "cell_type": "markdown",
   "metadata": {},
   "source": [
    "Последовательность монотонно возрастающая"
   ]
  },
  {
   "cell_type": "code",
   "execution_count": 36,
   "metadata": {},
   "outputs": [
    {
     "data": {
      "text/plain": [
       "-1.0"
      ]
     },
     "execution_count": 36,
     "metadata": {},
     "output_type": "execute_result"
    }
   ],
   "source": [
    "n = 2\n",
    "b_n(2)"
   ]
  },
  {
   "cell_type": "markdown",
   "metadata": {},
   "source": [
    "Последовательность ограничена снизу -1, сверху 0"
   ]
  },
  {
   "cell_type": "code",
   "execution_count": 37,
   "metadata": {},
   "outputs": [
    {
     "data": {
      "text/plain": [
       "-0.2"
      ]
     },
     "execution_count": 37,
     "metadata": {},
     "output_type": "execute_result"
    }
   ],
   "source": [
    "b_n(6)"
   ]
  },
  {
   "cell_type": "markdown",
   "metadata": {},
   "source": [
    "Пятый член последовательности = -0.2"
   ]
  },
  {
   "cell_type": "markdown",
   "metadata": {},
   "source": [
    "$3.$ ----------------------------"
   ]
  },
  {
   "cell_type": "code",
   "execution_count": 38,
   "metadata": {},
   "outputs": [],
   "source": [
    "def c_n(n):\n",
    "    return (-1)**n + np.sqrt(2*n)"
   ]
  },
  {
   "cell_type": "code",
   "execution_count": 39,
   "metadata": {},
   "outputs": [
    {
     "data": {
      "text/plain": [
       "(1.9776449076016078, 1.992929108955991, 1.9977639376126604)"
      ]
     },
     "execution_count": 39,
     "metadata": {},
     "output_type": "execute_result"
    }
   ],
   "source": [
    "n = 1000\n",
    "\n",
    "c1 = c_n(n) - c_n(n+1)\n",
    "c2 = c_n(10*n) - c_n(10*n+1)\n",
    "c3 = c_n(100*n) - c_n(100*n+1)\n",
    "c1, c2, c3"
   ]
  },
  {
   "cell_type": "markdown",
   "metadata": {},
   "source": [
    "Последовательность монотонно убывающая"
   ]
  },
  {
   "cell_type": "code",
   "execution_count": 40,
   "metadata": {},
   "outputs": [
    {
     "data": {
      "text/plain": [
       "0.41421356237309515"
      ]
     },
     "execution_count": 40,
     "metadata": {},
     "output_type": "execute_result"
    }
   ],
   "source": [
    "n = 1\n",
    "c_n(n)"
   ]
  },
  {
   "cell_type": "markdown",
   "metadata": {},
   "source": [
    "Последовательность ограничена снизу числом 0.41421356237309515"
   ]
  },
  {
   "cell_type": "code",
   "execution_count": 41,
   "metadata": {},
   "outputs": [
    {
     "data": {
      "text/plain": [
       "2.1622776601683795"
      ]
     },
     "execution_count": 41,
     "metadata": {},
     "output_type": "execute_result"
    }
   ],
   "source": [
    "c_n(5)"
   ]
  },
  {
   "cell_type": "markdown",
   "metadata": {},
   "source": [
    "Пятый член последовательности = 2.1622776601683795"
   ]
  },
  {
   "cell_type": "code",
   "execution_count": null,
   "metadata": {},
   "outputs": [],
   "source": []
  },
  {
   "cell_type": "markdown",
   "metadata": {},
   "source": [
    "$4.$ ----------------------------"
   ]
  },
  {
   "cell_type": "code",
   "execution_count": 42,
   "metadata": {},
   "outputs": [],
   "source": [
    "def d_n(n):\n",
    "    return (-1)**(2*n) + 1/(n**2)"
   ]
  },
  {
   "cell_type": "code",
   "execution_count": 43,
   "metadata": {},
   "outputs": [
    {
     "data": {
      "text/plain": [
       "(1.9970038955818836e-09, 1.999733711954832e-12, 1.9984014443252818e-15)"
      ]
     },
     "execution_count": 43,
     "metadata": {},
     "output_type": "execute_result"
    }
   ],
   "source": [
    "n = 1000\n",
    "\n",
    "d1 = d_n(n) - d_n(n+1)\n",
    "d2 = d_n(10*n) - d_n(10*n+1)\n",
    "d3 = d_n(100*n) - d_n(100*n+1)\n",
    "d1, d2, d3"
   ]
  },
  {
   "cell_type": "markdown",
   "metadata": {},
   "source": [
    "Последовательность монотонно убывающая"
   ]
  },
  {
   "cell_type": "code",
   "execution_count": 44,
   "metadata": {},
   "outputs": [
    {
     "data": {
      "text/plain": [
       "2.0"
      ]
     },
     "execution_count": 44,
     "metadata": {},
     "output_type": "execute_result"
    }
   ],
   "source": [
    "n = 1\n",
    "d_n(n)"
   ]
  },
  {
   "cell_type": "markdown",
   "metadata": {},
   "source": [
    "Последовательность ограничена снизу числом 1, сверху числом 2"
   ]
  },
  {
   "cell_type": "code",
   "execution_count": 45,
   "metadata": {},
   "outputs": [
    {
     "data": {
      "text/plain": [
       "1.04"
      ]
     },
     "execution_count": 45,
     "metadata": {},
     "output_type": "execute_result"
    }
   ],
   "source": [
    "d_n(5)"
   ]
  },
  {
   "cell_type": "markdown",
   "metadata": {},
   "source": [
    "Пятый член последовательности = 1.04"
   ]
  },
  {
   "cell_type": "markdown",
   "metadata": {},
   "source": [
    "#### 5.\n",
    "найти 12-й член заданной неявно последовательности $$a_1 = 128$$ $$a_{n+1} - a_n = 6$$\n",
    "#### ОТВЕТ:"
   ]
  },
  {
   "cell_type": "markdown",
   "metadata": {},
   "source": [
    "$a_2 = 6 + a_1$    \n",
    "$a_3 = 6 + a_2 = 6 \\cdot 2 + a_1$  \n",
    "...  \n",
    "$a_{12} = 6 \\cdot (12 - 1) + a_1$"
   ]
  },
  {
   "cell_type": "code",
   "execution_count": 46,
   "metadata": {},
   "outputs": [
    {
     "data": {
      "text/plain": [
       "194"
      ]
     },
     "execution_count": 46,
     "metadata": {},
     "output_type": "execute_result"
    }
   ],
   "source": [
    "a_1 = 128\n",
    "a_12 = 6*11 + 128\n",
    "a_12"
   ]
  },
  {
   "cell_type": "markdown",
   "metadata": {},
   "source": [
    "#### 6.\n",
    "На языке Python предложить алгоритм, вычисляющий численно предел $\\displaystyle \\lim_{n \\rightarrow \\infty} \\frac{n}{(n!)^{1/n}}$ с точностью $\\displaystyle \\varepsilon = 10^{-7}$ \n",
    "#### ОТВЕТ:"
   ]
  },
  {
   "cell_type": "code",
   "execution_count": 47,
   "metadata": {},
   "outputs": [],
   "source": [
    "from matplotlib import pyplot as plt"
   ]
  },
  {
   "cell_type": "code",
   "execution_count": 48,
   "metadata": {},
   "outputs": [],
   "source": [
    "n = np.linspace(1, 150, 150)\n",
    "func = []\n",
    "for i in n:\n",
    "    f = i/((np.math.factorial(i))**(1/i))\n",
    "    func.append(f)"
   ]
  },
  {
   "cell_type": "code",
   "execution_count": 49,
   "metadata": {},
   "outputs": [
    {
     "data": {
      "image/png": "[encoded data removed]",
      "text/plain": [
       "<Figure size 432x288 with 1 Axes>"
      ]
     },
     "metadata": {
      "needs_background": "light"
     },
     "output_type": "display_data"
    }
   ],
   "source": [
    "plt.plot(n, func, color='Green')\n",
    "plt.title('Предел')\n",
    "plt.xlabel('Значения n')\n",
    "plt.ylabel('Значения функции')\n",
    "plt.grid()\n",
    "plt.show()"
   ]
  },
  {
   "cell_type": "markdown",
   "metadata": {},
   "source": [
    "Из графика видно, что предел сходится к числу между 2,5 и 2,75.   \n",
    "\n",
    "Известно, что данный предел сходится к натуральному числу $e$, которое раскладывается в ряд:\n",
    "\n",
    "$e = \\displaystyle 1 + \\frac{1}{1!} + \\frac{1}{2!} + \\frac{1}{3!} + ... + \\frac{1}{n!} + R_n$, где остаток ряда  \n",
    "\n",
    "$R_n = \\displaystyle \\frac{1}{(n+1)!} + \\frac{1}{(n+2)!} + ... = \\frac{1}{n!} \\cdot (\\frac{1}{(n+1)} + \\frac{1}{(n+2)\\:(n+1)} + ...) $  \n",
    "\n",
    "Так как $ \\displaystyle \\frac{1}{(n+1)} + \\frac{1}{(n+2)\\:(n+1)} + ... < \\frac{1}{(n+1)} + \\frac{1}{(n+1)^2} + ...$, то   \n",
    "\n",
    "$R_n < \\displaystyle \\frac{1}{n!} \\cdot (\\frac{1}{(n+1)} + \\frac{1}{(n+1)^2} + ...)$ и теперь $R_n$ можно оценить с помощью формулы суммы членов бесконечно убывающей геометрической прогрессии: $S = \\displaystyle \\frac{a}{1 - q}$  \n",
    "\n",
    "$R_n < \\displaystyle \\frac{1}{n!} \\cdot \\frac {\\frac{1}{n+1}}{1 - \\frac{1}{n+1}} = \\frac{1}{n!} \\cdot \\frac {1}{n}$\n",
    "\n",
    "Эта оценка остатка ряда позволяет фактически получить оценку точности вычисления \n",
    "$\\displaystyle \\lim_{n \\rightarrow \\infty} \\frac{n}{(n!)^{1/n}} = e$,  \n",
    "т.е. точность вычисления предела $\\displaystyle \\varepsilon = 10^{-7} = \\frac{1}{n!} \\cdot \\frac {1}{n}$  "
   ]
  },
  {
   "cell_type": "code",
   "execution_count": 50,
   "metadata": {},
   "outputs": [
    {
     "name": "stdout",
     "output_type": "stream",
     "text": [
      "n = 10\n"
     ]
    }
   ],
   "source": [
    "epsilon = 10**(-7)\n",
    "n = 1\n",
    "while True:\n",
    "    if 1/(np.math.factorial(n)*n) <= epsilon:\n",
    "        print(f'n = {n}')\n",
    "        break\n",
    "    n +=1"
   ]
  },
  {
   "cell_type": "code",
   "execution_count": 51,
   "metadata": {},
   "outputs": [],
   "source": [
    "def limit(n):\n",
    "    lim = 1\n",
    "    for i in range(1, n+1):\n",
    "        lim += 1/np.math.factorial(i)\n",
    "    return lim"
   ]
  },
  {
   "cell_type": "code",
   "execution_count": 52,
   "metadata": {},
   "outputs": [
    {
     "data": {
      "text/plain": [
       "2.7182818011463845"
      ]
     },
     "execution_count": 52,
     "metadata": {},
     "output_type": "execute_result"
    }
   ],
   "source": [
    "limit(10)"
   ]
  },
  {
   "cell_type": "markdown",
   "metadata": {},
   "source": [
    "То есть предел $\\displaystyle \\lim_{n \\rightarrow \\infty} \\frac{n}{(n!)^{1/n}}$ с точностью до  $\\displaystyle \\varepsilon = 10^{-7}$ равен $2.7182818011463845$"
   ]
  },
  {
   "cell_type": "code",
   "execution_count": null,
   "metadata": {},
   "outputs": [],
   "source": []
  }
 ],
 "metadata": {
  "kernelspec": {
   "display_name": "Python 3",
   "language": "python",
   "name": "python3"
  },
  "language_info": {
   "codemirror_mode": {
    "name": "ipython",
    "version": 3
   },
   "file_extension": ".py",
   "mimetype": "text/x-python",
   "name": "python",
   "nbconvert_exporter": "python",
   "pygments_lexer": "ipython3",
   "version": "3.7.1"
  }
 },
 "nbformat": 4,
 "nbformat_minor": 2
}
